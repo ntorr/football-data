{
 "cells": [
  {
   "cell_type": "markdown",
   "metadata": {},
   "source": [
    "### Analysis of Kaggle European Soccer dataset\n",
    "Source of data: https://www.kaggle.com/hugomathien/soccer"
   ]
  },
  {
   "cell_type": "code",
   "execution_count": 1,
   "metadata": {
    "collapsed": true
   },
   "outputs": [],
   "source": [
    "# imports\n",
    "import pandas as pd\n",
    "from football_data.db_engines import connect_postgres"
   ]
  },
  {
   "cell_type": "code",
   "execution_count": 2,
   "metadata": {
    "collapsed": true
   },
   "outputs": [],
   "source": [
    "# get db connection\n",
    "db = 'football'\n",
    "schema = 'kaggle_european_soccer'\n",
    "con = connect_postgres(db)"
   ]
  },
  {
   "cell_type": "code",
   "execution_count": 3,
   "metadata": {},
   "outputs": [
    {
     "name": "stdout",
     "output_type": "stream",
     "text": [
      "       id  country_id                      name\n",
      "0       1           1    Belgium Jupiler League\n",
      "1    1729        1729    England Premier League\n",
      "2    4769        4769            France Ligue 1\n",
      "3    7809        7809     Germany 1. Bundesliga\n",
      "4   10257       10257             Italy Serie A\n",
      "5   13274       13274    Netherlands Eredivisie\n",
      "6   15722       15722        Poland Ekstraklasa\n",
      "7   17642       17642  Portugal Liga ZON Sagres\n",
      "8   19694       19694   Scotland Premier League\n",
      "9   21518       21518           Spain LIGA BBVA\n",
      "10  24558       24558  Switzerland Super League\n"
     ]
    }
   ],
   "source": [
    "# examine leagues\n",
    "leagues = pd.read_sql_table('league', con, schema=schema)\n",
    "print(leagues)"
   ]
  },
  {
   "cell_type": "code",
   "execution_count": 7,
   "metadata": {},
   "outputs": [
    {
     "name": "stdout",
     "output_type": "stream",
     "text": [
      "     id  country_id  league_id     season  stage                 date  \\\n",
      "0  1729        1729       1729  2008/2009      1  2008-08-17 00:00:00   \n",
      "1  1730        1729       1729  2008/2009      1  2008-08-16 00:00:00   \n",
      "2  1771        1729       1729  2008/2009     13  2008-11-15 00:00:00   \n",
      "3  1731        1729       1729  2008/2009      1  2008-08-16 00:00:00   \n",
      "4  1732        1729       1729  2008/2009      1  2008-08-16 00:00:00   \n",
      "\n",
      "   match_api_id  home_team_api_id  away_team_api_id  home_team_goal  ...    \\\n",
      "0        489042             10260             10261               1  ...     \n",
      "1        489043              9825              8659               1  ...     \n",
      "2        489164              8654              8462               0  ...     \n",
      "3        489044              8472              8650               0  ...     \n",
      "4        489045              8654              8528               2  ...     \n",
      "\n",
      "     SJA   VCH  VCD    VCA   GBH   GBD    GBA   BSH   BSD    BSA  \n",
      "0  10.00  1.28  5.5  12.00  1.30  4.75  10.00  1.29  4.50  11.00  \n",
      "1  12.00  1.25  6.0  13.00  1.22  5.50  13.00  1.22  5.00  13.00  \n",
      "2   2.88  2.40  3.2   2.65  2.50  3.30   2.75  2.40  3.25   2.80  \n",
      "3   1.73  5.50  3.8   1.65  5.00  3.40   1.70  4.50  3.40   1.73  \n",
      "4   3.75  1.90  3.5   4.35  1.91  3.25   4.00  1.91  3.25   3.80  \n",
      "\n",
      "[5 rows x 115 columns]\n"
     ]
    }
   ],
   "source": [
    "# focus on the EPL\n",
    "epl_id = 1729\n",
    "\n",
    "# query available matches\n",
    "sql = 'select * from %s.%s where league_id = %i' % (schema, 'match', epl_id)\n",
    "epl_matches = pd.read_sql(sql, con)\n",
    "print(epl_matches.head())"
   ]
  },
  {
   "cell_type": "code",
   "execution_count": 9,
   "metadata": {},
   "outputs": [
    {
     "name": "stdout",
     "output_type": "stream",
     "text": [
      "['2008/2009' '2009/2010' '2010/2011' '2011/2012' '2012/2013' '2013/2014'\n",
      " '2014/2015' '2015/2016']\n"
     ]
    }
   ],
   "source": [
    "# which seasons are available?\n",
    "print(epl_matches['season'].unique())"
   ]
  },
  {
   "cell_type": "markdown",
   "metadata": {},
   "source": [
    "### Summary\n",
    "\n",
    "A few thoughts below.\n",
    "* Little recently available data, this data source will have to be combined with something that is updated more frequently\n",
    "* Not very detailed e.g. no team sheets for matches\n",
    "* Only contains top leagues in each european country"
   ]
  },
  {
   "cell_type": "code",
   "execution_count": null,
   "metadata": {},
   "outputs": [],
   "source": []
  }
 ],
 "metadata": {
  "kernelspec": {
   "display_name": "Python 3",
   "language": "python",
   "name": "python3"
  },
  "language_info": {
   "codemirror_mode": {
    "name": "ipython",
    "version": 3
   },
   "file_extension": ".py",
   "mimetype": "text/x-python",
   "name": "python",
   "nbconvert_exporter": "python",
   "pygments_lexer": "ipython3",
   "version": "3.6.1"
  }
 },
 "nbformat": 4,
 "nbformat_minor": 2
}
